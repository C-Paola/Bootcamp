{
 "cells": [
  {
   "cell_type": "markdown",
   "metadata": {},
   "source": [
    "## API de Datos de Clima y su Relevancia\n",
    "\n",
    "En el desarrollo de este proyecto basado en el dataset Bike Sharing Demand, he optado por integrar datos climáticos obtenidos a través de una API pública, como **Open-Meteo**, para complementar la información histórica sobre el alquiler de bicicletas. Esta decisión responde a la necesidad de enriquecer nuestro análisis exploratorio y predictivo con variables externas que tienen un impacto directo y significativo en el comportamiento de los usuarios de un sistema de bicicletas compartidas. El clima, como factor ambiental clave, no solo influye en la decisión de las personas de utilizar bicicletas, sino que también ofrece oportunidades estratégicas para generar insights accionables que pueden optimizar operaciones, mejorar la experiencia del cliente y aumentar la rentabilidad del negocio.\n",
    "\n",
    "#### ¿Por qué una API de datos de clima?\n",
    "La incorporación de datos climáticos a través de una API permite acceder a información actualizada y pronosticada (e.g., temperatura máxima y mínima, precipitación, códigos de condiciones climáticas) que no está disponible en el dataset original, el cual solo incluye registros históricos de 2011-2012 con variables como `temp`, `weather`, y `windspeed`. Al usar una API como Open-Meteo, obtenemos pronósticos para los próximos días (e.g., 7 días) en tiempo real, lo que permite:\n",
    "1. **Extender el análisis al futuro**: Mientras que el dataset histórico es estático, los datos de la API nos dan una visión prospectiva, esencial para simulaciones y predicciones.\n",
    "2. **Flexibilidad geográfica y temporal**: La API nos permite ajustar los datos al contexto de Washington D.C. (donde se recolectó el dataset), asegurando coherencia con las condiciones locales.\n",
    "\n",
    "#### Relevancia para Insights de Negocio\n",
    "La integración de datos climáticos tiene un valor estratégico inmenso para generar insights que impacten directamente en la gestión y el crecimiento del sistema de bicicletas compartidas. A continuación, se destacan las razones clave y ejemplos de cómo esta información puede traducirse en decisiones de negocio:\n",
    "\n",
    "1. **Predicción de la Demanda y Optimización de Recursos**  \n",
    "   Las condiciones climáticas son un determinante fundamental del uso de bicicletas. Por ejemplo, el análisis histórico muestra que la demanda (`count`) cae significativamente con clima severo (`weather=4`, tormentas) o temperaturas extremas. Al combinar estos patrones con pronósticos climáticos, podemos:\n",
    "   - **Insight**: Predecir una caída del 50% en la demanda el próximo martes si se espera lluvia fuerte (e.g., 5 mm de precipitación).\n",
    "   - **Acción de Negocio**: Reducir la redistribución de bicicletas a estaciones expuestas y priorizar mantenimiento en ese día, ahorrando costos operativos.\n",
    "\n",
    "2. **Segmentación de Usuarios y Estrategias de Marketing**  \n",
    "   Los datos climáticos, junto con variables como `casual` y `registered`, permiten identificar cómo diferentes tipos de usuarios reaccionan al clima. Por ejemplo, usuarios casuales podrían evitar días ventosos, mientras que los registrados (más habituales) podrían ser más resilientes.\n",
    "   - **Insight**: En días soleados de fin de semana (e.g., `temp_max=25°C`, `weather_code=0`), la proporción de usuarios casuales sube al 40%.\n",
    "   - **Acción de Negocio**: Lanzar promociones específicas para usuarios casuales en días de buen clima previstos, como descuentos o pases diarios, para maximizar ingresos.\n",
    "\n",
    "3. **Gestión de Riesgos y Planificación Operativa**  \n",
    "   Eventos climáticos extremos (e.g., tormentas o temperaturas bajo cero) pueden interrumpir el servicio. Los datos de la API nos ayudan a anticipar estas situaciones.\n",
    "   - **Insight**: Una temperatura mínima pronosticada de -5°C en invierno podría reducir la demanda a niveles mínimos históricos (~20 alquileres/hora).\n",
    "   - **Acción de Negocio**: Ajustar el inventario de bicicletas disponibles y enviar alertas a los usuarios sobre condiciones adversas, mejorando la seguridad y la satisfacción.\n",
    "\n",
    "4. **Modelado Predictivo Avanzado**  \n",
    "   Para el proyecto final, planeamos usar machine learning para predecir `count`. Los datos climáticos de la API son variables de entrada críticas que enriquecen el modelo.\n",
    "   - **Insight**: Un modelo entrenado con datos históricos y probado con pronósticos muestra que la precipitación >2 mm reduce la demanda en un 30% en horas pico.\n",
    "   - **Acción de Negocio**: Implementar un sistema de predicción en tiempo real para ajustar dinámicamente la disponibilidad de bicicletas según el clima del día siguiente.\n",
    "\n",
    "#### Conclusión\n",
    "La utilización de una API de datos de clima no es solo un complemento técnico, sino una decisión estratégica que potencia el análisis del sistema de bicicletas compartidas. Al integrar pronósticos de temperatura, precipitación y condiciones climáticas, transformamos datos brutos en insights de negocio concretos: desde optimizar la logística y reducir costos hasta personalizar la experiencia del usuario y anticipar riesgos. "
   ]
  },
  {
   "cell_type": "code",
   "execution_count": 2,
   "metadata": {},
   "outputs": [],
   "source": [
    "import requests\n",
    "import pandas as pd\n",
    "from datetime import datetime, timedelta\n",
    "\n",
    "pd.set_option('display.width', 1000)\n",
    "\n",
    "# Coordenadas de Washington D.C.\n",
    "latitude = 38.8951\n",
    "longitude = -77.0364"
   ]
  },
  {
   "cell_type": "code",
   "execution_count": 3,
   "metadata": {},
   "outputs": [
    {
     "name": "stdout",
     "output_type": "stream",
     "text": [
      "Datos obtenidos exitosamente de Open-Meteo.\n"
     ]
    }
   ],
   "source": [
    "# Definir rango de fechas y resolución\n",
    "start_date = \"2025-03-09\"  # Fecha inicial\n",
    "end_date = \"2025-03-16\"    # Fecha final\n",
    "resolution = \"hourly\"      # O \"daily\" para datos diarios\n",
    "\n",
    "# Variables deseadas (ajusta según resolución)\n",
    "if resolution == \"daily\":\n",
    "    variables = \"temperature_2m_max,temperature_2m_min,precipitation_sum,weather_code,windspeed_10m_max\"\n",
    "else:  # hourly\n",
    "    variables = \"temperature_2m,precipitation,weather_code,windspeed_10m,precipitation_probability\"\n",
    "# temperature_2m: Temperatura a 2 metros sobre el suelo (lo mas bajo)\n",
    "# windspeed_10m: Velocidad del viento 10 metros sobre el suelo (lo mas bajo)\n",
    "\n",
    "\n",
    "# URL personalizada para pronóstico\n",
    "url = f\"https://api.open-meteo.com/v1/forecast?latitude={latitude}&longitude={longitude}&{resolution}={variables}&start_date={start_date}&end_date={end_date}&timezone=America/New_York\"\n",
    "\n",
    "# Hacer la solicitud a la API\n",
    "response = requests.get(url)\n",
    "if response.status_code == 200:\n",
    "    data = response.json()\n",
    "    print(\"Datos obtenidos exitosamente de Open-Meteo.\")\n",
    "else:\n",
    "    print(f\"Error al consultar la API: {response.status_code}\")\n",
    "    data = None\n",
    "\n",
    "# Extraer datos diarios del JSON\n",
    "# Crear DataFrame\n",
    "if data:\n",
    "    if resolution == \"daily\":\n",
    "        daily_data = data['daily']\n",
    "        df_weather = pd.DataFrame({\n",
    "            'date': daily_data['time'],\n",
    "            'temp_max': daily_data['temperature_2m_max'],\n",
    "            'temp_min': daily_data['temperature_2m_min'],\n",
    "            'precipitation': daily_data['precipitation_sum'],\n",
    "            'weather_code': daily_data['weather_code']\n",
    "        })\n",
    "        # Convertir 'date' a formato datetime\n",
    "        df_weather['date'] = pd.to_datetime(df_weather['date'])\n",
    "    else:  # hourly\n",
    "        hourly_data = data['hourly']\n",
    "\n",
    "        df_weather = pd.DataFrame(data['hourly'])\n",
    "        df_weather['time'] = pd.to_datetime(df_weather['time'])\n",
    "else:\n",
    "    df_weather = pd.DataFrame()"
   ]
  },
  {
   "cell_type": "code",
   "execution_count": 4,
   "metadata": {},
   "outputs": [
    {
     "name": "stdout",
     "output_type": "stream",
     "text": [
      "Primeras 5 filas del DataFrame:\n",
      "                 time  temperature_2m  precipitation  weather_code  windspeed_10m  precipitation_probability\n",
      "0 2025-03-09 00:00:00             3.1            0.0             0            0.8                          0\n",
      "1 2025-03-09 01:00:00             2.1            0.0             0            3.9                          0\n",
      "2 2025-03-09 02:00:00             1.2            0.0             0            0.8                          0\n",
      "3 2025-03-09 03:00:00             0.4            0.0             0            1.9                          0\n",
      "4 2025-03-09 04:00:00            -0.1            0.0             0            2.6                          0\n"
     ]
    }
   ],
   "source": [
    "# Mostrar las primeras filas\n",
    "print(\"Primeras 5 filas del DataFrame:\")\n",
    "print(df_weather.head())"
   ]
  },
  {
   "cell_type": "code",
   "execution_count": 5,
   "metadata": {},
   "outputs": [
    {
     "name": "stdout",
     "output_type": "stream",
     "text": [
      "Dimensiones del DataFrame:\n",
      "(192, 6)\n"
     ]
    }
   ],
   "source": [
    "# Número de filas y columnas\n",
    "print(\"Dimensiones del DataFrame:\")\n",
    "print(df_weather.shape)"
   ]
  },
  {
   "cell_type": "code",
   "execution_count": 6,
   "metadata": {},
   "outputs": [
    {
     "name": "stdout",
     "output_type": "stream",
     "text": [
      "Tipos de datos por columna:\n",
      "time                         datetime64[ns]\n",
      "temperature_2m                      float64\n",
      "precipitation                       float64\n",
      "weather_code                          int64\n",
      "windspeed_10m                       float64\n",
      "precipitation_probability             int64\n",
      "dtype: object\n"
     ]
    }
   ],
   "source": [
    "# Tipos de datos\n",
    "print(\"Tipos de datos por columna:\")\n",
    "print(df_weather.dtypes)"
   ]
  },
  {
   "cell_type": "code",
   "execution_count": 7,
   "metadata": {},
   "outputs": [
    {
     "name": "stdout",
     "output_type": "stream",
     "text": [
      "Resumen estadístico:\n",
      "       temperature_2m  precipitation  weather_code  windspeed_10m  precipitation_probability\n",
      "count      192.000000     192.000000    192.000000     192.000000                 192.000000\n",
      "mean        10.880208       0.000521      1.572917       8.455208                   1.401042\n",
      "std          5.672772       0.007217      3.864850       5.802570                   6.019219\n",
      "min         -2.200000       0.000000      0.000000       0.500000                   0.000000\n",
      "25%          6.700000       0.000000      0.000000       4.800000                   0.000000\n",
      "50%          9.700000       0.000000      0.000000       7.100000                   0.000000\n",
      "75%         15.325000       0.000000      3.000000      10.000000                   0.000000\n",
      "max         23.300000       0.100000     51.000000      35.400000                  42.000000\n"
     ]
    }
   ],
   "source": [
    "# Resumen estadístico básico\n",
    "print(\"Resumen estadístico:\")\n",
    "print(df_weather.describe())"
   ]
  },
  {
   "cell_type": "code",
   "execution_count": 8,
   "metadata": {},
   "outputs": [
    {
     "name": "stdout",
     "output_type": "stream",
     "text": [
      "Datos guardados en 'weather_forecast_dc.csv'\n"
     ]
    }
   ],
   "source": [
    "# Guardar el DataFrame como CSV para uso futuro\n",
    "df_weather.to_csv('weather_forecast_dc.csv', index=False)\n",
    "print(\"Datos guardados en 'weather_forecast_dc.csv'\")"
   ]
  },
  {
   "cell_type": "code",
   "execution_count": 9,
   "metadata": {},
   "outputs": [
    {
     "data": {
      "image/svg+xml": [
       "<svg class=\"main-svg\" xmlns=\"http://www.w3.org/2000/svg\" xmlns:xlink=\"http://www.w3.org/1999/xlink\" width=\"700\" height=\"500\" style=\"\" viewBox=\"0 0 700 500\"><rect x=\"0\" y=\"0\" width=\"700\" height=\"500\" style=\"fill: rgb(17, 17, 17); fill-opacity: 1;\"/><defs id=\"defs-dc5348\"><g class=\"clips\"><clipPath id=\"clipdc5348xyplot\" class=\"plotclip\"><rect width=\"375.06\" height=\"320\"/></clipPath><clipPath id=\"clipdc5348xy2plot\" class=\"plotclip\"><rect width=\"375.06\" height=\"320\"/></clipPath><clipPath class=\"axesclip\" id=\"clipdc5348x\"><rect x=\"80\" y=\"0\" width=\"375.06\" height=\"500\"/></clipPath><clipPath class=\"axesclip\" id=\"clipdc5348y\"><rect x=\"0\" y=\"100\" width=\"700\" height=\"320\"/></clipPath><clipPath class=\"axesclip\" id=\"clipdc5348xy\"><rect x=\"80\" y=\"100\" width=\"375.06\" height=\"320\"/></clipPath><clipPath class=\"axesclip\" id=\"clipdc5348y2\"><rect x=\"0\" y=\"100\" width=\"700\" height=\"320\"/></clipPath><clipPath class=\"axesclip\" id=\"clipdc5348xy2\"><rect x=\"80\" y=\"100\" width=\"375.06\" height=\"320\"/></clipPath></g><g class=\"gradients\"/><g class=\"patterns\"/></defs><g class=\"bglayer\"/><g class=\"layer-below\"><g class=\"imagelayer\"/><g class=\"shapelayer\"/></g><g class=\"cartesianlayer\"><g class=\"subplot xy\"><g class=\"layer-subplot\"><g class=\"shapelayer\"/><g class=\"imagelayer\"/></g><g class=\"minor-gridlayer\"><g class=\"x\"/><g class=\"y\"/><g class=\"y2\"/></g><g class=\"gridlayer\"><g class=\"x\"><path class=\"xgrid crisp\" transform=\"translate(174.26,0)\" d=\"M0,100v320\" style=\"stroke: rgb(40, 52, 66); stroke-opacity: 1; stroke-width: 1px;\"/><path class=\"xgrid crisp\" transform=\"translate(268.51,0)\" d=\"M0,100v320\" style=\"stroke: rgb(40, 52, 66); stroke-opacity: 1; stroke-width: 1px;\"/><path class=\"xgrid crisp\" transform=\"translate(362.77,0)\" d=\"M0,100v320\" style=\"stroke: rgb(40, 52, 66); stroke-opacity: 1; stroke-width: 1px;\"/></g><g class=\"y\"><path class=\"ygrid crisp\" transform=\"translate(0,328.57)\" d=\"M80,0h375.06\" style=\"stroke: rgb(40, 52, 66); stroke-opacity: 1; stroke-width: 1px;\"/><path class=\"ygrid crisp\" transform=\"translate(0,282.86)\" d=\"M80,0h375.06\" style=\"stroke: rgb(40, 52, 66); stroke-opacity: 1; stroke-width: 1px;\"/><path class=\"ygrid crisp\" transform=\"translate(0,237.14)\" d=\"M80,0h375.06\" style=\"stroke: rgb(40, 52, 66); stroke-opacity: 1; stroke-width: 1px;\"/><path class=\"ygrid crisp\" transform=\"translate(0,191.43)\" d=\"M80,0h375.06\" style=\"stroke: rgb(40, 52, 66); stroke-opacity: 1; stroke-width: 1px;\"/><path class=\"ygrid crisp\" transform=\"translate(0,145.71)\" d=\"M80,0h375.06\" style=\"stroke: rgb(40, 52, 66); stroke-opacity: 1; stroke-width: 1px;\"/></g><g class=\"y2\"><path class=\"y2grid crisp\" transform=\"translate(0,335.43)\" d=\"M80,0h375.06\" style=\"stroke: rgb(40, 52, 66); stroke-opacity: 1; stroke-width: 1px;\"/><path class=\"y2grid crisp\" transform=\"translate(0,266.86)\" d=\"M80,0h375.06\" style=\"stroke: rgb(40, 52, 66); stroke-opacity: 1; stroke-width: 1px;\"/><path class=\"y2grid crisp\" transform=\"translate(0,198.29000000000002)\" d=\"M80,0h375.06\" style=\"stroke: rgb(40, 52, 66); stroke-opacity: 1; stroke-width: 1px;\"/><path class=\"y2grid crisp\" transform=\"translate(0,129.71)\" d=\"M80,0h375.06\" style=\"stroke: rgb(40, 52, 66); stroke-opacity: 1; stroke-width: 1px;\"/></g></g><g class=\"zerolinelayer\"><path class=\"yzl zl crisp\" transform=\"translate(0,374.29)\" d=\"M80,0h375.06\" style=\"stroke: rgb(40, 52, 66); stroke-opacity: 1; stroke-width: 2px;\"/><path class=\"y2zl zl crisp\" transform=\"translate(0,404)\" d=\"M80,0h375.06\" style=\"stroke: rgb(40, 52, 66); stroke-opacity: 1; stroke-width: 2px;\"/></g><path class=\"xlines-below\"/><path class=\"ylines-below\"/><g class=\"overlines-below\"><path class=\"xy2-x\"/><path class=\"xy2-y\"/></g><g class=\"xaxislayer-below\"/><g class=\"yaxislayer-below\"/><g class=\"overaxes-below\"><g class=\"xy2-x\"/><g class=\"xy2-y\"/></g><g class=\"plot\" transform=\"translate(80,100)\" clip-path=\"url(#clipdc5348xyplot)\"><g class=\"scatterlayer mlayer\"><g class=\"trace scatter trace2fd6be\" style=\"stroke-miterlimit: 2; opacity: 1;\"><g class=\"fills\"/><g class=\"errorbars\"/><g class=\"lines\"><path class=\"js-line\" d=\"M0,245.94L5.89,270.63L7.85,275.2L9.82,277.03L11.78,291.66L13.75,294.4L15.71,284.34L21.6,190.17L23.56,167.31L27.49,142.63L29.45,138.97L33.38,128L35.35,131.66L41.24,177.37L43.2,187.43L47.13,206.63L49.09,213.03L51.06,224L53.02,230.4L54.98,234.97L56.95,235.89L58.91,245.03L60.87,247.77L62.84,245.03L64.8,216.69L70.69,121.6L72.66,111.54L76.58,100.57L78.55,101.49L80.51,100.57L82.47,107.89L90.33,177.37L92.29,191.09L94.26,200.23L96.22,214.86L98.18,221.26L100.15,232.23L102.11,241.37L104.07,244.11L106.04,245.03L108,250.51L109.97,245.03L111.93,214.86L119.78,95.09L121.75,82.29L123.71,78.63L125.67,71.31L127.64,69.49L129.6,75.89L133.53,115.2L135.49,125.26L137.46,142.63L139.42,151.77L143.35,169.14L145.31,175.54L149.24,187.43L151.2,185.6L153.17,185.6L155.13,192L157.09,192L159.06,173.71L161.02,163.66L162.98,148.11L166.91,117.94L168.88,108.8L172.8,99.66L174.77,103.31L176.73,108.8L178.69,136.23L184.58,182.86L186.55,196.57L188.51,209.37L190.48,215.77L192.44,216.69L194.4,216.69L196.37,215.77L198.33,213.94L200.29,220.34L202.26,216.69L204.22,217.6L206.18,216.69L208.15,214.86L210.11,209.37L217.97,189.26L219.93,180.11L221.89,180.11L223.86,177.37L227.79,184.69L229.75,193.83L231.71,196.57L233.68,209.37L235.64,215.77L237.6,208.46L239.57,217.6L241.53,217.6L243.49,215.77L245.46,215.77L247.42,211.2L249.39,218.51L251.35,215.77L253.31,217.6L257.24,213.03L259.2,206.63L261.17,208.46L263.13,191.09L265.09,185.6L267.06,188.34L269.02,183.77L270.99,193.83L274.91,200.23L276.88,198.4L278.84,202.97L280.8,202.06L282.77,202.97L284.73,204.8L286.7,203.89L288.66,208.46L290.62,204.8L292.59,204.8L294.55,206.63L296.51,206.63L298.48,206.63L300.44,204.8L302.4,202.97L304.37,195.66L308.3,182.86L310.26,169.14L312.22,161.83L314.19,146.29L316.15,131.66L318.11,134.4L320.08,138.97L322.04,156.34L324,154.51L325.97,166.4L327.93,167.31L329.9,169.14L331.86,160L333.82,160L335.79,157.26L337.75,149.94L339.71,133.49L341.68,126.17L343.64,125.26L345.61,119.77L347.57,117.03L349.53,104.23L351.5,102.4L353.46,96L355.42,92.34L357.39,79.54L361.31,61.26L363.28,61.26L367.21,81.37L369.17,89.6L371.13,95.09L373.1,97.83L375.06,102.4\" style=\"vector-effect: non-scaling-stroke; fill: none; stroke: rgb(0, 255, 255); stroke-opacity: 1; stroke-width: 1.5px; opacity: 1;\"/></g><g class=\"points\"/><g class=\"text\"/></g><g class=\"trace scatter tracecaa600\" style=\"stroke-miterlimit: 2; opacity: 1;\"><g class=\"fills\"/><g class=\"errorbars\"/><g class=\"lines\"><path class=\"js-line\" d=\"M0,266.97L1.96,238.63L3.93,266.97L7.85,250.51L9.82,228.57L11.78,247.77L13.75,220.34L15.71,218.51L17.67,218.51L19.64,162.74L21.6,142.63L25.53,117.03L27.49,70.4L29.45,81.37L31.42,114.29L33.38,116.11L35.35,141.71L37.31,192.91L39.27,169.14L41.24,253.26L43.2,253.26L45.16,224.91L47.13,236.8L49.09,226.74L51.06,196.57L53.02,220.34L54.98,215.77L56.95,224L58.91,224.91L60.87,214.86L62.84,251.43L64.8,231.31L66.76,184.69L68.73,195.66L70.69,264.23L72.66,224L74.62,218.51L76.58,163.66L78.55,219.43L80.51,244.11L82.47,209.37L84.44,209.37L86.4,187.43L90.33,264.23L92.29,227.66L94.26,237.71L96.22,203.89L100.15,236.8L102.11,253.26L104.07,239.54L106.04,234.97L108,243.2L109.97,255.09L111.93,262.4L113.89,253.26L115.86,230.4L117.82,190.17L119.78,188.34L121.75,175.54L125.67,145.37L127.64,158.17L129.6,152.69L131.57,165.49L133.53,231.31L135.49,256.91L137.46,245.03L139.42,253.26L141.38,244.11L143.35,242.29L145.31,216.69L147.27,259.66L149.24,241.37L151.2,210.29L153.17,219.43L155.13,249.6L157.09,250.51L159.06,195.66L161.02,177.37L162.98,211.2L164.95,223.09L166.91,202.06L168.88,195.66L170.84,192L172.8,163.66L174.77,153.6L176.73,156.34L178.69,155.43L180.66,146.29L182.62,206.63L184.58,186.51L186.55,193.83L188.51,196.57L190.48,213.03L192.44,182.86L194.4,196.57L196.37,180.11L198.33,185.6L200.29,192L202.26,182.86L204.22,178.29L206.18,182.86L208.15,184.69L210.11,182.86L212.08,185.6L214.04,192.91L216,216.69L217.97,218.51L219.93,209.37L221.89,210.29L227.79,269.71L229.75,245.03L231.71,231.31L233.68,205.71L235.64,244.11L237.6,250.51L239.57,228.57L241.53,216.69L243.49,234.97L245.46,231.31L247.42,255.09L249.39,244.11L251.35,216.69L253.31,208.46L255.28,224.91L257.24,208.46L259.2,215.77L261.17,208.46L263.13,205.71L265.09,211.2L267.06,207.54L269.02,185.6L270.99,190.17L272.95,190.17L274.91,188.34L276.88,201.14L278.84,210.29L280.8,192L282.77,178.29L284.73,217.6L286.7,189.26L288.66,230.4L292.59,188.34L294.55,193.83L296.51,233.14L298.48,223.09L300.44,216.69L302.4,194.74L304.37,197.49L306.33,184.69L308.3,170.06L310.26,194.74L312.22,216.69L314.19,219.43L316.15,178.29L318.11,192.91L320.08,213.94L322.04,208.46L324,228.57L325.97,219.43L327.93,225.83L329.9,222.17L331.86,241.37L333.82,237.71L335.79,234.97L337.75,172.8L339.71,146.29L341.68,149.03L343.64,148.11L345.61,149.94L347.57,105.14L349.53,106.97L353.46,62.17L355.42,76.8L357.39,68.57L359.35,55.77L361.31,-49.37L363.28,3.66L365.24,-21.03L367.21,46.63L369.17,65.83L371.13,129.83L375.06,228.57\" style=\"vector-effect: non-scaling-stroke; fill: none; stroke: rgb(50, 205, 50); stroke-opacity: 1; stroke-width: 1.5px; opacity: 1;\"/></g><g class=\"points\"/><g class=\"text\"/></g></g></g><g class=\"overplot\"><g class=\"xy2\" transform=\"translate(80,100)\" clip-path=\"url(#clipdc5348xy2plot)\"><g class=\"scatterlayer mlayer\"><g class=\"trace scatter tracee71ef0\" style=\"stroke-miterlimit: 2; opacity: 1;\"><g class=\"fills\"/><g class=\"errorbars\"/><g class=\"lines\"><path class=\"js-line\" d=\"M0,304L327.93,304L329.9,297.14L331.86,304L333.82,304L343.64,304L345.61,290.29L347.57,290.29L349.53,283.43L355.42,221.71L357.39,57.14L359.35,43.43L361.31,77.71L363.28,228.57L365.24,214.86L367.21,235.43L369.17,242.29L371.13,201.14L373.1,118.86L375.06,16\" style=\"vector-effect: non-scaling-stroke; fill: none; stroke: rgb(128, 0, 128); stroke-opacity: 1; stroke-width: 1.5px; opacity: 1;\"/></g><g class=\"points\"/><g class=\"text\"/></g></g></g></g><path class=\"xlines-above crisp\" d=\"M0,0\" style=\"fill: none;\"/><path class=\"ylines-above crisp\" d=\"M0,0\" style=\"fill: none;\"/><g class=\"overlines-above\"><path class=\"xy2-x crisp\" d=\"M0,0\" style=\"fill: none;\"/><path class=\"xy2-y crisp\" d=\"M0,0\" style=\"fill: none;\"/></g><g class=\"xaxislayer-above\"><g class=\"xtick\"><text text-anchor=\"middle\" x=\"0\" y=\"433\" transform=\"translate(80,0)\" style=\"font-family: 'Open Sans', verdana, arial, sans-serif; font-size: 12px; fill: rgb(242, 245, 250); fill-opacity: 1; white-space: pre; opacity: 1;\"><tspan class=\"line\" dy=\"0em\" x=\"0\" y=\"433\">Mar 9</tspan><tspan class=\"line\" dy=\"1.3em\" x=\"0\" y=\"433\">2025</tspan></text></g><g class=\"xtick\"><text text-anchor=\"middle\" x=\"0\" y=\"433\" style=\"font-family: 'Open Sans', verdana, arial, sans-serif; font-size: 12px; fill: rgb(242, 245, 250); fill-opacity: 1; white-space: pre; opacity: 1;\" transform=\"translate(174.26,0)\">Mar 11</text></g><g class=\"xtick\"><text text-anchor=\"middle\" x=\"0\" y=\"433\" style=\"font-family: 'Open Sans', verdana, arial, sans-serif; font-size: 12px; fill: rgb(242, 245, 250); fill-opacity: 1; white-space: pre; opacity: 1;\" transform=\"translate(268.51,0)\">Mar 13</text></g><g class=\"xtick\"><text text-anchor=\"middle\" x=\"0\" y=\"433\" style=\"font-family: 'Open Sans', verdana, arial, sans-serif; font-size: 12px; fill: rgb(242, 245, 250); fill-opacity: 1; white-space: pre; opacity: 1;\" transform=\"translate(362.77,0)\">Mar 15</text></g></g><g class=\"yaxislayer-above\"><g class=\"ytick\"><text text-anchor=\"end\" x=\"79\" y=\"4.199999999999999\" transform=\"translate(0,420)\" style=\"font-family: 'Open Sans', verdana, arial, sans-serif; font-size: 12px; fill: rgb(242, 245, 250); fill-opacity: 1; white-space: pre; opacity: 1;\">−5</text></g><g class=\"ytick\"><text text-anchor=\"end\" x=\"79\" y=\"4.199999999999999\" style=\"font-family: 'Open Sans', verdana, arial, sans-serif; font-size: 12px; fill: rgb(242, 245, 250); fill-opacity: 1; white-space: pre; opacity: 1;\" transform=\"translate(0,374.29)\">0</text></g><g class=\"ytick\"><text text-anchor=\"end\" x=\"79\" y=\"4.199999999999999\" style=\"font-family: 'Open Sans', verdana, arial, sans-serif; font-size: 12px; fill: rgb(242, 245, 250); fill-opacity: 1; white-space: pre; opacity: 1;\" transform=\"translate(0,328.57)\">5</text></g><g class=\"ytick\"><text text-anchor=\"end\" x=\"79\" y=\"4.199999999999999\" style=\"font-family: 'Open Sans', verdana, arial, sans-serif; font-size: 12px; fill: rgb(242, 245, 250); fill-opacity: 1; white-space: pre; opacity: 1;\" transform=\"translate(0,282.86)\">10</text></g><g class=\"ytick\"><text text-anchor=\"end\" x=\"79\" y=\"4.199999999999999\" style=\"font-family: 'Open Sans', verdana, arial, sans-serif; font-size: 12px; fill: rgb(242, 245, 250); fill-opacity: 1; white-space: pre; opacity: 1;\" transform=\"translate(0,237.14)\">15</text></g><g class=\"ytick\"><text text-anchor=\"end\" x=\"79\" y=\"4.199999999999999\" style=\"font-family: 'Open Sans', verdana, arial, sans-serif; font-size: 12px; fill: rgb(242, 245, 250); fill-opacity: 1; white-space: pre; opacity: 1;\" transform=\"translate(0,191.43)\">20</text></g><g class=\"ytick\"><text text-anchor=\"end\" x=\"79\" y=\"4.199999999999999\" style=\"font-family: 'Open Sans', verdana, arial, sans-serif; font-size: 12px; fill: rgb(242, 245, 250); fill-opacity: 1; white-space: pre; opacity: 1;\" transform=\"translate(0,145.71)\">25</text></g><g class=\"ytick\"><text text-anchor=\"end\" x=\"79\" y=\"4.199999999999999\" style=\"font-family: 'Open Sans', verdana, arial, sans-serif; font-size: 12px; fill: rgb(242, 245, 250); fill-opacity: 1; white-space: pre; opacity: 1;\" transform=\"translate(0,100)\">30</text></g></g><g class=\"overaxes-above\"><g class=\"xy2-x\"/><g class=\"xy2-y\"><g class=\"y2tick\"><text text-anchor=\"start\" x=\"456.06\" y=\"4.199999999999999\" transform=\"translate(0,404)\" style=\"font-family: 'Open Sans', verdana, arial, sans-serif; font-size: 12px; fill: rgb(242, 245, 250); fill-opacity: 1; white-space: pre; opacity: 1;\">0</text></g><g class=\"y2tick\"><text text-anchor=\"start\" x=\"456.06\" y=\"4.199999999999999\" style=\"font-family: 'Open Sans', verdana, arial, sans-serif; font-size: 12px; fill: rgb(242, 245, 250); fill-opacity: 1; white-space: pre; opacity: 1;\" transform=\"translate(0,335.43)\">10</text></g><g class=\"y2tick\"><text text-anchor=\"start\" x=\"456.06\" y=\"4.199999999999999\" style=\"font-family: 'Open Sans', verdana, arial, sans-serif; font-size: 12px; fill: rgb(242, 245, 250); fill-opacity: 1; white-space: pre; opacity: 1;\" transform=\"translate(0,266.86)\">20</text></g><g class=\"y2tick\"><text text-anchor=\"start\" x=\"456.06\" y=\"4.199999999999999\" style=\"font-family: 'Open Sans', verdana, arial, sans-serif; font-size: 12px; fill: rgb(242, 245, 250); fill-opacity: 1; white-space: pre; opacity: 1;\" transform=\"translate(0,198.29000000000002)\">30</text></g><g class=\"y2tick\"><text text-anchor=\"start\" x=\"456.06\" y=\"4.199999999999999\" style=\"font-family: 'Open Sans', verdana, arial, sans-serif; font-size: 12px; fill: rgb(242, 245, 250); fill-opacity: 1; white-space: pre; opacity: 1;\" transform=\"translate(0,129.71)\">40</text></g></g></g></g><g class=\"subplot xy2\"/></g><g class=\"polarlayer\"/><g class=\"smithlayer\"/><g class=\"ternarylayer\"/><g class=\"geolayer\"/><g class=\"funnelarealayer\"/><g class=\"pielayer\"/><g class=\"iciclelayer\"/><g class=\"treemaplayer\"/><g class=\"sunburstlayer\"/><g class=\"glimages\"/><defs id=\"topdefs-dc5348\"><g class=\"clips\"/><clipPath id=\"legenddc5348\"><rect width=\"189\" height=\"67\" x=\"0\" y=\"0\"/></clipPath></defs><g class=\"layer-above\"><g class=\"imagelayer\"/><g class=\"shapelayer\"/></g><g class=\"infolayer\"><g class=\"legend\" pointer-events=\"all\" transform=\"translate(498.95000000000005,100)\"><rect class=\"bg\" shape-rendering=\"crispEdges\" style=\"stroke: rgb(68, 68, 68); stroke-opacity: 1; fill: rgb(17, 17, 17); fill-opacity: 1; stroke-width: 0px;\" width=\"189\" height=\"67\" x=\"0\" y=\"0\"/><g class=\"scrollbox\" transform=\"\" clip-path=\"url(#legenddc5348)\"><g class=\"groups\"><g class=\"traces\" transform=\"translate(0,14.5)\" style=\"opacity: 1;\"><text class=\"legendtext\" text-anchor=\"start\" x=\"40\" y=\"4.680000000000001\" style=\"font-family: 'Open Sans', verdana, arial, sans-serif; font-size: 12px; fill: rgb(242, 245, 250); fill-opacity: 1; white-space: pre;\">Temperature 2m</text><g class=\"layers\" style=\"opacity: 1;\"><g class=\"legendfill\"/><g class=\"legendlines\"><path class=\"js-line\" d=\"M5,0h30\" style=\"fill: none; stroke: rgb(0, 255, 255); stroke-opacity: 1; stroke-width: 1.5px;\"/></g><g class=\"legendsymbols\"><g class=\"legendpoints\"/></g></g><rect class=\"legendtoggle\" x=\"0\" y=\"-9.5\" width=\"183.234375\" height=\"19\" style=\"fill: rgb(0, 0, 0); fill-opacity: 0;\"/></g><g class=\"traces\" transform=\"translate(0,33.5)\" style=\"opacity: 1;\"><text class=\"legendtext\" text-anchor=\"start\" x=\"40\" y=\"4.680000000000001\" style=\"font-family: 'Open Sans', verdana, arial, sans-serif; font-size: 12px; fill: rgb(242, 245, 250); fill-opacity: 1; white-space: pre;\">Wind Speed 10m</text><g class=\"layers\" style=\"opacity: 1;\"><g class=\"legendfill\"/><g class=\"legendlines\"><path class=\"js-line\" d=\"M5,0h30\" style=\"fill: none; stroke: rgb(50, 205, 50); stroke-opacity: 1; stroke-width: 1.5px;\"/></g><g class=\"legendsymbols\"><g class=\"legendpoints\"/></g></g><rect class=\"legendtoggle\" x=\"0\" y=\"-9.5\" width=\"183.234375\" height=\"19\" style=\"fill: rgb(0, 0, 0); fill-opacity: 0;\"/></g><g class=\"traces\" transform=\"translate(0,52.5)\" style=\"opacity: 1;\"><text class=\"legendtext\" text-anchor=\"start\" x=\"40\" y=\"4.680000000000001\" style=\"font-family: 'Open Sans', verdana, arial, sans-serif; font-size: 12px; fill: rgb(242, 245, 250); fill-opacity: 1; white-space: pre;\">Precipitation Probability</text><g class=\"layers\" style=\"opacity: 1;\"><g class=\"legendfill\"/><g class=\"legendlines\"><path class=\"js-line\" d=\"M5,0h30\" style=\"fill: none; stroke: rgb(128, 0, 128); stroke-opacity: 1; stroke-width: 1.5px;\"/></g><g class=\"legendsymbols\"><g class=\"legendpoints\"/></g></g><rect class=\"legendtoggle\" x=\"0\" y=\"-9.5\" width=\"183.234375\" height=\"19\" style=\"fill: rgb(0, 0, 0); fill-opacity: 0;\"/></g></g></g><rect class=\"scrollbar\" rx=\"20\" ry=\"3\" width=\"0\" height=\"0\" style=\"fill: rgb(128, 139, 164); fill-opacity: 1;\" x=\"0\" y=\"0\"/></g><g class=\"g-gtitle\"><text class=\"gtitle\" x=\"35\" y=\"50\" text-anchor=\"start\" dy=\"0em\" style=\"font-family: 'Open Sans', verdana, arial, sans-serif; font-size: 17px; fill: rgb(242, 245, 250); opacity: 1; font-weight: normal; white-space: pre;\">38.8951°N -77.0364°E - Prediccion del Clima</text></g><g class=\"g-xtitle\"><text class=\"xtitle\" x=\"267.53\" y=\"476.409375\" text-anchor=\"middle\" style=\"font-family: 'Open Sans', verdana, arial, sans-serif; font-size: 14px; fill: rgb(242, 245, 250); opacity: 1; font-weight: normal; white-space: pre;\">Fecha</text></g><g class=\"g-ytitle\"><text class=\"ytitle\" transform=\"rotate(-90,36.746875,260)\" x=\"36.746875\" y=\"260\" text-anchor=\"middle\" style=\"font-family: 'Open Sans', verdana, arial, sans-serif; font-size: 14px; fill: rgb(242, 245, 250); opacity: 1; font-weight: normal; white-space: pre;\">Temperature (°C) / Wind Speed (km/h)</text></g><g class=\"g-y2title\"><text class=\"y2title\" transform=\"rotate(-90,496.503125,260)\" x=\"496.503125\" y=\"260\" text-anchor=\"middle\" style=\"font-family: 'Open Sans', verdana, arial, sans-serif; font-size: 14px; fill: rgb(242, 245, 250); opacity: 1; font-weight: normal; white-space: pre;\">Precipitation Probability (%)</text></g></g></svg>"
      ]
     },
     "metadata": {},
     "output_type": "display_data"
    }
   ],
   "source": [
    "import plotly.graph_objects as go\n",
    "from plotly.subplots import make_subplots\n",
    "import plotly.io as pio\n",
    "pio.renderers.default = \"svg\"\n",
    "\n",
    "# Crear gráfico con múltiples ejes Y\n",
    "fig = make_subplots(specs=[[{\"secondary_y\": True}]])\n",
    "\n",
    "# Línea 1: Temperatura (eje Y1, izquierda)\n",
    "fig.add_trace(\n",
    "    go.Scatter(x=df_weather['time'], y=df_weather['temperature_2m'], name=\"Temperature 2m\", line=dict(color='cyan', width=1.5)),\n",
    "    secondary_y=False\n",
    ")\n",
    "\n",
    "# Línea 2: Velocidad del viento (eje Y2)\n",
    "fig.add_trace(\n",
    "    go.Scatter(x=df_weather['time'], y=df_weather['windspeed_10m'], name=\"Wind Speed 10m\", line=dict(color='limegreen', width=1.5)),\n",
    "    secondary_y=False\n",
    ")\n",
    "\n",
    "# Línea 3: Probabilidad de Precipitacion (eje Y3, derecha)\n",
    "fig.add_trace(\n",
    "    go.Scatter(x=df_weather['time'], y=df_weather['precipitation_probability'], name=\"Precipitation Probability\", line=dict(color='purple', width=1.5)),\n",
    "    secondary_y=True\n",
    ")\n",
    "\n",
    "# Actualizar el diseño del gráfico\n",
    "fig.update_layout(\n",
    "    title=f\"{latitude}°N {longitude}°E - Prediccion del Clima\",\n",
    "    xaxis_title=\"Fecha\",\n",
    "    template=\"plotly_dark\",  # Tema oscuro como en la imagen\n",
    "    legend=dict(x=1.05, y=1)\n",
    ")\n",
    "\n",
    "# Ajustar rangos de ejes Y para que coincidan visualmente con el ejemplo\n",
    "fig.update_yaxes(title_text=\"Temperature (°C) / Wind Speed (km/h)\", secondary_y=False, range=[-5, 30])\n",
    "fig.update_yaxes(title_text=\"Precipitation Probability (%)\", secondary_y=True)\n",
    "fig.show()"
   ]
  }
 ],
 "metadata": {
  "kernelspec": {
   "display_name": "base",
   "language": "python",
   "name": "python3"
  },
  "language_info": {
   "codemirror_mode": {
    "name": "ipython",
    "version": 3
   },
   "file_extension": ".py",
   "mimetype": "text/x-python",
   "name": "python",
   "nbconvert_exporter": "python",
   "pygments_lexer": "ipython3",
   "version": "3.10.9"
  }
 },
 "nbformat": 4,
 "nbformat_minor": 2
}
