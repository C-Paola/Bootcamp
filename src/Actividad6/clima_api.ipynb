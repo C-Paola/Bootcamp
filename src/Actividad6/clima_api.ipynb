{
 "cells": [
  {
   "cell_type": "markdown",
   "metadata": {},
   "source": [
    "## API de Datos de Clima y su Relevancia\n",
    "\n",
    "En el desarrollo de este proyecto basado en el dataset Bike Sharing Demand, he optado por integrar datos climáticos obtenidos a través de una API pública, como **Open-Meteo**, para complementar la información histórica sobre el alquiler de bicicletas. Esta decisión responde a la necesidad de enriquecer nuestro análisis exploratorio y predictivo con variables externas que tienen un impacto directo y significativo en el comportamiento de los usuarios de un sistema de bicicletas compartidas. El clima, como factor ambiental clave, no solo influye en la decisión de las personas de utilizar bicicletas, sino que también ofrece oportunidades estratégicas para generar insights accionables que pueden optimizar operaciones, mejorar la experiencia del cliente y aumentar la rentabilidad del negocio.\n",
    "\n",
    "#### ¿Por qué una API de datos de clima?\n",
    "La incorporación de datos climáticos a través de una API permite acceder a información actualizada y pronosticada (e.g., temperatura máxima y mínima, precipitación, códigos de condiciones climáticas) que no está disponible en el dataset original, el cual solo incluye registros históricos de 2011-2012 con variables como `temp`, `weather`, y `windspeed`. Al usar una API como Open-Meteo, obtenemos pronósticos para los próximos días (e.g., 7 días) en tiempo real, lo que permite:\n",
    "1. **Extender el análisis al futuro**: Mientras que el dataset histórico es estático, los datos de la API nos dan una visión prospectiva, esencial para simulaciones y predicciones.\n",
    "2. **Flexibilidad geográfica y temporal**: La API nos permite ajustar los datos al contexto de Washington D.C. (donde se recolectó el dataset), asegurando coherencia con las condiciones locales.\n",
    "\n",
    "#### Relevancia para Insights de Negocio\n",
    "La integración de datos climáticos tiene un valor estratégico inmenso para generar insights que impacten directamente en la gestión y el crecimiento del sistema de bicicletas compartidas. A continuación, se destacan las razones clave y ejemplos de cómo esta información puede traducirse en decisiones de negocio:\n",
    "\n",
    "1. **Predicción de la Demanda y Optimización de Recursos**  \n",
    "   Las condiciones climáticas son un determinante fundamental del uso de bicicletas. Por ejemplo, el análisis histórico muestra que la demanda (`count`) cae significativamente con clima severo (`weather=4`, tormentas) o temperaturas extremas. Al combinar estos patrones con pronósticos climáticos, podemos:\n",
    "   - **Insight**: Predecir una caída del 50% en la demanda el próximo martes si se espera lluvia fuerte (e.g., 5 mm de precipitación).\n",
    "   - **Acción de Negocio**: Reducir la redistribución de bicicletas a estaciones expuestas y priorizar mantenimiento en ese día, ahorrando costos operativos.\n",
    "\n",
    "2. **Segmentación de Usuarios y Estrategias de Marketing**  \n",
    "   Los datos climáticos, junto con variables como `casual` y `registered`, permiten identificar cómo diferentes tipos de usuarios reaccionan al clima. Por ejemplo, usuarios casuales podrían evitar días ventosos, mientras que los registrados (más habituales) podrían ser más resilientes.\n",
    "   - **Insight**: En días soleados de fin de semana (e.g., `temp_max=25°C`, `weather_code=0`), la proporción de usuarios casuales sube al 40%.\n",
    "   - **Acción de Negocio**: Lanzar promociones específicas para usuarios casuales en días de buen clima previstos, como descuentos o pases diarios, para maximizar ingresos.\n",
    "\n",
    "3. **Gestión de Riesgos y Planificación Operativa**  \n",
    "   Eventos climáticos extremos (e.g., tormentas o temperaturas bajo cero) pueden interrumpir el servicio. Los datos de la API nos ayudan a anticipar estas situaciones.\n",
    "   - **Insight**: Una temperatura mínima pronosticada de -5°C en invierno podría reducir la demanda a niveles mínimos históricos (~20 alquileres/hora).\n",
    "   - **Acción de Negocio**: Ajustar el inventario de bicicletas disponibles y enviar alertas a los usuarios sobre condiciones adversas, mejorando la seguridad y la satisfacción.\n",
    "\n",
    "4. **Modelado Predictivo Avanzado**  \n",
    "   Para el proyecto final, planeamos usar machine learning para predecir `count`. Los datos climáticos de la API son variables de entrada críticas que enriquecen el modelo.\n",
    "   - **Insight**: Un modelo entrenado con datos históricos y probado con pronósticos muestra que la precipitación >2 mm reduce la demanda en un 30% en horas pico.\n",
    "   - **Acción de Negocio**: Implementar un sistema de predicción en tiempo real para ajustar dinámicamente la disponibilidad de bicicletas según el clima del día siguiente.\n",
    "\n",
    "#### Conclusión\n",
    "La utilización de una API de datos de clima no es solo un complemento técnico, sino una decisión estratégica que potencia el análisis del sistema de bicicletas compartidas. Al integrar pronósticos de temperatura, precipitación y condiciones climáticas, transformamos datos brutos en insights de negocio concretos: desde optimizar la logística y reducir costos hasta personalizar la experiencia del usuario y anticipar riesgos. "
   ]
  },
  {
   "cell_type": "code",
   "execution_count": null,
   "metadata": {},
   "outputs": [],
   "source": [
    "import requests\n",
    "import pandas as pd\n",
    "from datetime import datetime, timedelta\n",
    "\n",
    "pd.set_option('display.width', 1000)\n",
    "\n",
    "# Coordenadas de Washington D.C.\n",
    "latitude = 38.8951\n",
    "longitude = -77.0364"
   ]
  },
  {
   "cell_type": "code",
   "execution_count": null,
   "metadata": {},
   "outputs": [
    {
     "name": "stdout",
     "output_type": "stream",
     "text": [
      "Datos obtenidos exitosamente de Open-Meteo.\n"
     ]
    }
   ],
   "source": [
    "# Definir rango de fechas y resolución\n",
    "start_date = \"2025-03-09\"  # Fecha inicial\n",
    "end_date = \"2025-03-16\"    # Fecha final\n",
    "resolution = \"hourly\"      # O \"daily\" para datos diarios\n",
    "\n",
    "# Variables deseadas (ajusta según resolución)\n",
    "if resolution == \"daily\":\n",
    "    variables = \"temperature_2m_max,temperature_2m_min,precipitation_sum,weather_code,windspeed_10m_max\"\n",
    "else:  # hourly\n",
    "    variables = \"temperature_2m,precipitation,weather_code,windspeed_10m,precipitation_probability\"\n",
    "# temperature_2m: Temperatura a 2 metros sobre el suelo (lo mas bajo)\n",
    "# windspeed_10m: Velocidad del viento 10 metros sobre el suelo (lo mas bajo)\n",
    "\n",
    "\n",
    "# URL personalizada para pronóstico\n",
    "url = f\"https://api.open-meteo.com/v1/forecast?latitude={latitude}&longitude={longitude}&{resolution}={variables}&start_date={start_date}&end_date={end_date}&timezone=America/New_York\"\n",
    "\n",
    "# Hacer la solicitud a la API\n",
    "response = requests.get(url)\n",
    "if response.status_code == 200:\n",
    "    data = response.json()\n",
    "    print(\"Datos obtenidos exitosamente de Open-Meteo.\")\n",
    "else:\n",
    "    print(f\"Error al consultar la API: {response.status_code}\")\n",
    "    data = None\n",
    "\n",
    "# Extraer datos diarios del JSON\n",
    "# Crear DataFrame\n",
    "if data:\n",
    "    if resolution == \"daily\":\n",
    "        daily_data = data['daily']\n",
    "        df_weather = pd.DataFrame({\n",
    "            'date': daily_data['time'],\n",
    "            'temp_max': daily_data['temperature_2m_max'],\n",
    "            'temp_min': daily_data['temperature_2m_min'],\n",
    "            'precipitation': daily_data['precipitation_sum'],\n",
    "            'weather_code': daily_data['weather_code']\n",
    "        })\n",
    "        # Convertir 'date' a formato datetime\n",
    "        df_weather['date'] = pd.to_datetime(df_weather['date'])\n",
    "    else:  # hourly\n",
    "        hourly_data = data['hourly']\n",
    "\n",
    "        df_weather = pd.DataFrame(data['hourly'])\n",
    "        df_weather['time'] = pd.to_datetime(df_weather['time'])\n",
    "else:\n",
    "    df_weather = pd.DataFrame()"
   ]
  },
  {
   "cell_type": "code",
   "execution_count": null,
   "metadata": {},
   "outputs": [
    {
     "name": "stdout",
     "output_type": "stream",
     "text": [
      "Primeras 5 filas del DataFrame:\n",
      "                 time  temperature_2m  precipitation  weather_code  windspeed_10m  precipitation_probability\n",
      "0 2025-03-09 00:00:00             0.9            0.0             0            6.9                          0\n",
      "1 2025-03-09 01:00:00             0.0            0.0             0            6.1                          0\n",
      "2 2025-03-09 02:00:00            -0.6            0.0             3            2.9                          0\n",
      "3 2025-03-09 03:00:00            -1.7            0.0             1            8.0                          0\n",
      "4 2025-03-09 04:00:00            -2.1            0.0             2            7.0                          0\n"
     ]
    }
   ],
   "source": [
    "# Mostrar las primeras filas\n",
    "print(\"Primeras 5 filas del DataFrame:\")\n",
    "print(df_weather.head())"
   ]
  },
  {
   "cell_type": "code",
   "execution_count": null,
   "metadata": {},
   "outputs": [
    {
     "name": "stdout",
     "output_type": "stream",
     "text": [
      "Dimensiones del DataFrame:\n",
      "(192, 6)\n"
     ]
    }
   ],
   "source": [
    "# Número de filas y columnas\n",
    "print(\"Dimensiones del DataFrame:\")\n",
    "print(df_weather.shape)"
   ]
  },
  {
   "cell_type": "code",
   "execution_count": null,
   "metadata": {},
   "outputs": [
    {
     "name": "stdout",
     "output_type": "stream",
     "text": [
      "Tipos de datos por columna:\n",
      "time                         datetime64[ns]\n",
      "temperature_2m                      float64\n",
      "precipitation                       float64\n",
      "weather_code                          int64\n",
      "windspeed_10m                       float64\n",
      "precipitation_probability             int64\n",
      "dtype: object\n"
     ]
    }
   ],
   "source": [
    "# Tipos de datos\n",
    "print(\"Tipos de datos por columna:\")\n",
    "print(df_weather.dtypes)"
   ]
  },
  {
   "cell_type": "code",
   "execution_count": null,
   "metadata": {},
   "outputs": [
    {
     "name": "stdout",
     "output_type": "stream",
     "text": [
      "Resumen estadístico:\n",
      "                      time  temperature_2m  precipitation  weather_code  windspeed_10m  precipitation_probability\n",
      "count                  192      192.000000     192.000000    192.000000     192.000000                 192.000000\n",
      "mean   2025-03-12 23:30:00       13.126042       0.007812      4.916667      12.125521                   8.718750\n",
      "min    2025-03-09 00:00:00       -3.300000       0.000000      0.000000       1.300000                   0.000000\n",
      "25%    2025-03-10 23:45:00        9.600000       0.000000      0.000000       6.975000                   0.000000\n",
      "50%    2025-03-12 23:30:00       13.650000       0.000000      3.000000      10.100000                   1.000000\n",
      "75%    2025-03-14 23:15:00       17.700000       0.000000      3.000000      15.700000                   7.000000\n",
      "max    2025-03-16 23:00:00       23.800000       0.200000     51.000000      28.500000                  66.000000\n",
      "std                    NaN        5.775780       0.032220     12.003199       6.991650                  16.628811\n"
     ]
    }
   ],
   "source": [
    "# Resumen estadístico básico\n",
    "print(\"Resumen estadístico:\")\n",
    "print(df_weather.describe())"
   ]
  },
  {
   "cell_type": "code",
   "execution_count": null,
   "metadata": {},
   "outputs": [
    {
     "name": "stdout",
     "output_type": "stream",
     "text": [
      "Datos guardados en 'weather_forecast_dc.csv'\n"
     ]
    }
   ],
   "source": [
    "# Guardar el DataFrame como CSV para uso futuro\n",
    "df_weather.to_csv('weather_forecast_dc.csv', index=False)\n",
    "print(\"Datos guardados en 'weather_forecast_dc.csv'\")"
   ]
  },
  {
   "cell_type": "code",
   "execution_count": null,
   "metadata": {},
   "outputs": [
    {
     "data": {
      "application/vnd.plotly.v1+json": {
       "config": {
        "plotlyServerURL": "https://plot.ly"
       },
       "data": [
        {
         "line": {
          "color": "cyan",
          "width": 1.5
         },
         "name": "Temperature 2m",
         "type": "scatter",
         "x": [
          "2025-03-09T00:00:00",
          "2025-03-09T01:00:00",
          "2025-03-09T02:00:00",
          "2025-03-09T03:00:00",
          "2025-03-09T04:00:00",
          "2025-03-09T05:00:00",
          "2025-03-09T06:00:00",
          "2025-03-09T07:00:00",
          "2025-03-09T08:00:00",
          "2025-03-09T09:00:00",
          "2025-03-09T10:00:00",
          "2025-03-09T11:00:00",
          "2025-03-09T12:00:00",
          "2025-03-09T13:00:00",
          "2025-03-09T14:00:00",
          "2025-03-09T15:00:00",
          "2025-03-09T16:00:00",
          "2025-03-09T17:00:00",
          "2025-03-09T18:00:00",
          "2025-03-09T19:00:00",
          "2025-03-09T20:00:00",
          "2025-03-09T21:00:00",
          "2025-03-09T22:00:00",
          "2025-03-09T23:00:00",
          "2025-03-10T00:00:00",
          "2025-03-10T01:00:00",
          "2025-03-10T02:00:00",
          "2025-03-10T03:00:00",
          "2025-03-10T04:00:00",
          "2025-03-10T05:00:00",
          "2025-03-10T06:00:00",
          "2025-03-10T07:00:00",
          "2025-03-10T08:00:00",
          "2025-03-10T09:00:00",
          "2025-03-10T10:00:00",
          "2025-03-10T11:00:00",
          "2025-03-10T12:00:00",
          "2025-03-10T13:00:00",
          "2025-03-10T14:00:00",
          "2025-03-10T15:00:00",
          "2025-03-10T16:00:00",
          "2025-03-10T17:00:00",
          "2025-03-10T18:00:00",
          "2025-03-10T19:00:00",
          "2025-03-10T20:00:00",
          "2025-03-10T21:00:00",
          "2025-03-10T22:00:00",
          "2025-03-10T23:00:00",
          "2025-03-11T00:00:00",
          "2025-03-11T01:00:00",
          "2025-03-11T02:00:00",
          "2025-03-11T03:00:00",
          "2025-03-11T04:00:00",
          "2025-03-11T05:00:00",
          "2025-03-11T06:00:00",
          "2025-03-11T07:00:00",
          "2025-03-11T08:00:00",
          "2025-03-11T09:00:00",
          "2025-03-11T10:00:00",
          "2025-03-11T11:00:00",
          "2025-03-11T12:00:00",
          "2025-03-11T13:00:00",
          "2025-03-11T14:00:00",
          "2025-03-11T15:00:00",
          "2025-03-11T16:00:00",
          "2025-03-11T17:00:00",
          "2025-03-11T18:00:00",
          "2025-03-11T19:00:00",
          "2025-03-11T20:00:00",
          "2025-03-11T21:00:00",
          "2025-03-11T22:00:00",
          "2025-03-11T23:00:00",
          "2025-03-12T00:00:00",
          "2025-03-12T01:00:00",
          "2025-03-12T02:00:00",
          "2025-03-12T03:00:00",
          "2025-03-12T04:00:00",
          "2025-03-12T05:00:00",
          "2025-03-12T06:00:00",
          "2025-03-12T07:00:00",
          "2025-03-12T08:00:00",
          "2025-03-12T09:00:00",
          "2025-03-12T10:00:00",
          "2025-03-12T11:00:00",
          "2025-03-12T12:00:00",
          "2025-03-12T13:00:00",
          "2025-03-12T14:00:00",
          "2025-03-12T15:00:00",
          "2025-03-12T16:00:00",
          "2025-03-12T17:00:00",
          "2025-03-12T18:00:00",
          "2025-03-12T19:00:00",
          "2025-03-12T20:00:00",
          "2025-03-12T21:00:00",
          "2025-03-12T22:00:00",
          "2025-03-12T23:00:00",
          "2025-03-13T00:00:00",
          "2025-03-13T01:00:00",
          "2025-03-13T02:00:00",
          "2025-03-13T03:00:00",
          "2025-03-13T04:00:00",
          "2025-03-13T05:00:00",
          "2025-03-13T06:00:00",
          "2025-03-13T07:00:00",
          "2025-03-13T08:00:00",
          "2025-03-13T09:00:00",
          "2025-03-13T10:00:00",
          "2025-03-13T11:00:00",
          "2025-03-13T12:00:00",
          "2025-03-13T13:00:00",
          "2025-03-13T14:00:00",
          "2025-03-13T15:00:00",
          "2025-03-13T16:00:00",
          "2025-03-13T17:00:00",
          "2025-03-13T18:00:00",
          "2025-03-13T19:00:00",
          "2025-03-13T20:00:00",
          "2025-03-13T21:00:00",
          "2025-03-13T22:00:00",
          "2025-03-13T23:00:00",
          "2025-03-14T00:00:00",
          "2025-03-14T01:00:00",
          "2025-03-14T02:00:00",
          "2025-03-14T03:00:00",
          "2025-03-14T04:00:00",
          "2025-03-14T05:00:00",
          "2025-03-14T06:00:00",
          "2025-03-14T07:00:00",
          "2025-03-14T08:00:00",
          "2025-03-14T09:00:00",
          "2025-03-14T10:00:00",
          "2025-03-14T11:00:00",
          "2025-03-14T12:00:00",
          "2025-03-14T13:00:00",
          "2025-03-14T14:00:00",
          "2025-03-14T15:00:00",
          "2025-03-14T16:00:00",
          "2025-03-14T17:00:00",
          "2025-03-14T18:00:00",
          "2025-03-14T19:00:00",
          "2025-03-14T20:00:00",
          "2025-03-14T21:00:00",
          "2025-03-14T22:00:00",
          "2025-03-14T23:00:00",
          "2025-03-15T00:00:00",
          "2025-03-15T01:00:00",
          "2025-03-15T02:00:00",
          "2025-03-15T03:00:00",
          "2025-03-15T04:00:00",
          "2025-03-15T05:00:00",
          "2025-03-15T06:00:00",
          "2025-03-15T07:00:00",
          "2025-03-15T08:00:00",
          "2025-03-15T09:00:00",
          "2025-03-15T10:00:00",
          "2025-03-15T11:00:00",
          "2025-03-15T12:00:00",
          "2025-03-15T13:00:00",
          "2025-03-15T14:00:00",
          "2025-03-15T15:00:00",
          "2025-03-15T16:00:00",
          "2025-03-15T17:00:00",
          "2025-03-15T18:00:00",
          "2025-03-15T19:00:00",
          "2025-03-15T20:00:00",
          "2025-03-15T21:00:00",
          "2025-03-15T22:00:00",
          "2025-03-15T23:00:00",
          "2025-03-16T00:00:00",
          "2025-03-16T01:00:00",
          "2025-03-16T02:00:00",
          "2025-03-16T03:00:00",
          "2025-03-16T04:00:00",
          "2025-03-16T05:00:00",
          "2025-03-16T06:00:00",
          "2025-03-16T07:00:00",
          "2025-03-16T08:00:00",
          "2025-03-16T09:00:00",
          "2025-03-16T10:00:00",
          "2025-03-16T11:00:00",
          "2025-03-16T12:00:00",
          "2025-03-16T13:00:00",
          "2025-03-16T14:00:00",
          "2025-03-16T15:00:00",
          "2025-03-16T16:00:00",
          "2025-03-16T17:00:00",
          "2025-03-16T18:00:00",
          "2025-03-16T19:00:00",
          "2025-03-16T20:00:00",
          "2025-03-16T21:00:00",
          "2025-03-16T22:00:00",
          "2025-03-16T23:00:00"
         ],
         "xaxis": "x",
         "y": {
          "bdata": "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",
          "dtype": "f8"
         },
         "yaxis": "y"
        },
        {
         "line": {
          "color": "limegreen",
          "width": 1.5
         },
         "name": "Wind Speed 10m",
         "type": "scatter",
         "x": [
          "2025-03-09T00:00:00",
          "2025-03-09T01:00:00",
          "2025-03-09T02:00:00",
          "2025-03-09T03:00:00",
          "2025-03-09T04:00:00",
          "2025-03-09T05:00:00",
          "2025-03-09T06:00:00",
          "2025-03-09T07:00:00",
          "2025-03-09T08:00:00",
          "2025-03-09T09:00:00",
          "2025-03-09T10:00:00",
          "2025-03-09T11:00:00",
          "2025-03-09T12:00:00",
          "2025-03-09T13:00:00",
          "2025-03-09T14:00:00",
          "2025-03-09T15:00:00",
          "2025-03-09T16:00:00",
          "2025-03-09T17:00:00",
          "2025-03-09T18:00:00",
          "2025-03-09T19:00:00",
          "2025-03-09T20:00:00",
          "2025-03-09T21:00:00",
          "2025-03-09T22:00:00",
          "2025-03-09T23:00:00",
          "2025-03-10T00:00:00",
          "2025-03-10T01:00:00",
          "2025-03-10T02:00:00",
          "2025-03-10T03:00:00",
          "2025-03-10T04:00:00",
          "2025-03-10T05:00:00",
          "2025-03-10T06:00:00",
          "2025-03-10T07:00:00",
          "2025-03-10T08:00:00",
          "2025-03-10T09:00:00",
          "2025-03-10T10:00:00",
          "2025-03-10T11:00:00",
          "2025-03-10T12:00:00",
          "2025-03-10T13:00:00",
          "2025-03-10T14:00:00",
          "2025-03-10T15:00:00",
          "2025-03-10T16:00:00",
          "2025-03-10T17:00:00",
          "2025-03-10T18:00:00",
          "2025-03-10T19:00:00",
          "2025-03-10T20:00:00",
          "2025-03-10T21:00:00",
          "2025-03-10T22:00:00",
          "2025-03-10T23:00:00",
          "2025-03-11T00:00:00",
          "2025-03-11T01:00:00",
          "2025-03-11T02:00:00",
          "2025-03-11T03:00:00",
          "2025-03-11T04:00:00",
          "2025-03-11T05:00:00",
          "2025-03-11T06:00:00",
          "2025-03-11T07:00:00",
          "2025-03-11T08:00:00",
          "2025-03-11T09:00:00",
          "2025-03-11T10:00:00",
          "2025-03-11T11:00:00",
          "2025-03-11T12:00:00",
          "2025-03-11T13:00:00",
          "2025-03-11T14:00:00",
          "2025-03-11T15:00:00",
          "2025-03-11T16:00:00",
          "2025-03-11T17:00:00",
          "2025-03-11T18:00:00",
          "2025-03-11T19:00:00",
          "2025-03-11T20:00:00",
          "2025-03-11T21:00:00",
          "2025-03-11T22:00:00",
          "2025-03-11T23:00:00",
          "2025-03-12T00:00:00",
          "2025-03-12T01:00:00",
          "2025-03-12T02:00:00",
          "2025-03-12T03:00:00",
          "2025-03-12T04:00:00",
          "2025-03-12T05:00:00",
          "2025-03-12T06:00:00",
          "2025-03-12T07:00:00",
          "2025-03-12T08:00:00",
          "2025-03-12T09:00:00",
          "2025-03-12T10:00:00",
          "2025-03-12T11:00:00",
          "2025-03-12T12:00:00",
          "2025-03-12T13:00:00",
          "2025-03-12T14:00:00",
          "2025-03-12T15:00:00",
          "2025-03-12T16:00:00",
          "2025-03-12T17:00:00",
          "2025-03-12T18:00:00",
          "2025-03-12T19:00:00",
          "2025-03-12T20:00:00",
          "2025-03-12T21:00:00",
          "2025-03-12T22:00:00",
          "2025-03-12T23:00:00",
          "2025-03-13T00:00:00",
          "2025-03-13T01:00:00",
          "2025-03-13T02:00:00",
          "2025-03-13T03:00:00",
          "2025-03-13T04:00:00",
          "2025-03-13T05:00:00",
          "2025-03-13T06:00:00",
          "2025-03-13T07:00:00",
          "2025-03-13T08:00:00",
          "2025-03-13T09:00:00",
          "2025-03-13T10:00:00",
          "2025-03-13T11:00:00",
          "2025-03-13T12:00:00",
          "2025-03-13T13:00:00",
          "2025-03-13T14:00:00",
          "2025-03-13T15:00:00",
          "2025-03-13T16:00:00",
          "2025-03-13T17:00:00",
          "2025-03-13T18:00:00",
          "2025-03-13T19:00:00",
          "2025-03-13T20:00:00",
          "2025-03-13T21:00:00",
          "2025-03-13T22:00:00",
          "2025-03-13T23:00:00",
          "2025-03-14T00:00:00",
          "2025-03-14T01:00:00",
          "2025-03-14T02:00:00",
          "2025-03-14T03:00:00",
          "2025-03-14T04:00:00",
          "2025-03-14T05:00:00",
          "2025-03-14T06:00:00",
          "2025-03-14T07:00:00",
          "2025-03-14T08:00:00",
          "2025-03-14T09:00:00",
          "2025-03-14T10:00:00",
          "2025-03-14T11:00:00",
          "2025-03-14T12:00:00",
          "2025-03-14T13:00:00",
          "2025-03-14T14:00:00",
          "2025-03-14T15:00:00",
          "2025-03-14T16:00:00",
          "2025-03-14T17:00:00",
          "2025-03-14T18:00:00",
          "2025-03-14T19:00:00",
          "2025-03-14T20:00:00",
          "2025-03-14T21:00:00",
          "2025-03-14T22:00:00",
          "2025-03-14T23:00:00",
          "2025-03-15T00:00:00",
          "2025-03-15T01:00:00",
          "2025-03-15T02:00:00",
          "2025-03-15T03:00:00",
          "2025-03-15T04:00:00",
          "2025-03-15T05:00:00",
          "2025-03-15T06:00:00",
          "2025-03-15T07:00:00",
          "2025-03-15T08:00:00",
          "2025-03-15T09:00:00",
          "2025-03-15T10:00:00",
          "2025-03-15T11:00:00",
          "2025-03-15T12:00:00",
          "2025-03-15T13:00:00",
          "2025-03-15T14:00:00",
          "2025-03-15T15:00:00",
          "2025-03-15T16:00:00",
          "2025-03-15T17:00:00",
          "2025-03-15T18:00:00",
          "2025-03-15T19:00:00",
          "2025-03-15T20:00:00",
          "2025-03-15T21:00:00",
          "2025-03-15T22:00:00",
          "2025-03-15T23:00:00",
          "2025-03-16T00:00:00",
          "2025-03-16T01:00:00",
          "2025-03-16T02:00:00",
          "2025-03-16T03:00:00",
          "2025-03-16T04:00:00",
          "2025-03-16T05:00:00",
          "2025-03-16T06:00:00",
          "2025-03-16T07:00:00",
          "2025-03-16T08:00:00",
          "2025-03-16T09:00:00",
          "2025-03-16T10:00:00",
          "2025-03-16T11:00:00",
          "2025-03-16T12:00:00",
          "2025-03-16T13:00:00",
          "2025-03-16T14:00:00",
          "2025-03-16T15:00:00",
          "2025-03-16T16:00:00",
          "2025-03-16T17:00:00",
          "2025-03-16T18:00:00",
          "2025-03-16T19:00:00",
          "2025-03-16T20:00:00",
          "2025-03-16T21:00:00",
          "2025-03-16T22:00:00",
          "2025-03-16T23:00:00"
         ],
         "xaxis": "x",
         "y": {
          "bdata": "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",
          "dtype": "f8"
         },
         "yaxis": "y"
        },
        {
         "line": {
          "color": "purple",
          "width": 1.5
         },
         "name": "Precipitation Probability",
         "type": "scatter",
         "x": [
          "2025-03-09T00:00:00",
          "2025-03-09T01:00:00",
          "2025-03-09T02:00:00",
          "2025-03-09T03:00:00",
          "2025-03-09T04:00:00",
          "2025-03-09T05:00:00",
          "2025-03-09T06:00:00",
          "2025-03-09T07:00:00",
          "2025-03-09T08:00:00",
          "2025-03-09T09:00:00",
          "2025-03-09T10:00:00",
          "2025-03-09T11:00:00",
          "2025-03-09T12:00:00",
          "2025-03-09T13:00:00",
          "2025-03-09T14:00:00",
          "2025-03-09T15:00:00",
          "2025-03-09T16:00:00",
          "2025-03-09T17:00:00",
          "2025-03-09T18:00:00",
          "2025-03-09T19:00:00",
          "2025-03-09T20:00:00",
          "2025-03-09T21:00:00",
          "2025-03-09T22:00:00",
          "2025-03-09T23:00:00",
          "2025-03-10T00:00:00",
          "2025-03-10T01:00:00",
          "2025-03-10T02:00:00",
          "2025-03-10T03:00:00",
          "2025-03-10T04:00:00",
          "2025-03-10T05:00:00",
          "2025-03-10T06:00:00",
          "2025-03-10T07:00:00",
          "2025-03-10T08:00:00",
          "2025-03-10T09:00:00",
          "2025-03-10T10:00:00",
          "2025-03-10T11:00:00",
          "2025-03-10T12:00:00",
          "2025-03-10T13:00:00",
          "2025-03-10T14:00:00",
          "2025-03-10T15:00:00",
          "2025-03-10T16:00:00",
          "2025-03-10T17:00:00",
          "2025-03-10T18:00:00",
          "2025-03-10T19:00:00",
          "2025-03-10T20:00:00",
          "2025-03-10T21:00:00",
          "2025-03-10T22:00:00",
          "2025-03-10T23:00:00",
          "2025-03-11T00:00:00",
          "2025-03-11T01:00:00",
          "2025-03-11T02:00:00",
          "2025-03-11T03:00:00",
          "2025-03-11T04:00:00",
          "2025-03-11T05:00:00",
          "2025-03-11T06:00:00",
          "2025-03-11T07:00:00",
          "2025-03-11T08:00:00",
          "2025-03-11T09:00:00",
          "2025-03-11T10:00:00",
          "2025-03-11T11:00:00",
          "2025-03-11T12:00:00",
          "2025-03-11T13:00:00",
          "2025-03-11T14:00:00",
          "2025-03-11T15:00:00",
          "2025-03-11T16:00:00",
          "2025-03-11T17:00:00",
          "2025-03-11T18:00:00",
          "2025-03-11T19:00:00",
          "2025-03-11T20:00:00",
          "2025-03-11T21:00:00",
          "2025-03-11T22:00:00",
          "2025-03-11T23:00:00",
          "2025-03-12T00:00:00",
          "2025-03-12T01:00:00",
          "2025-03-12T02:00:00",
          "2025-03-12T03:00:00",
          "2025-03-12T04:00:00",
          "2025-03-12T05:00:00",
          "2025-03-12T06:00:00",
          "2025-03-12T07:00:00",
          "2025-03-12T08:00:00",
          "2025-03-12T09:00:00",
          "2025-03-12T10:00:00",
          "2025-03-12T11:00:00",
          "2025-03-12T12:00:00",
          "2025-03-12T13:00:00",
          "2025-03-12T14:00:00",
          "2025-03-12T15:00:00",
          "2025-03-12T16:00:00",
          "2025-03-12T17:00:00",
          "2025-03-12T18:00:00",
          "2025-03-12T19:00:00",
          "2025-03-12T20:00:00",
          "2025-03-12T21:00:00",
          "2025-03-12T22:00:00",
          "2025-03-12T23:00:00",
          "2025-03-13T00:00:00",
          "2025-03-13T01:00:00",
          "2025-03-13T02:00:00",
          "2025-03-13T03:00:00",
          "2025-03-13T04:00:00",
          "2025-03-13T05:00:00",
          "2025-03-13T06:00:00",
          "2025-03-13T07:00:00",
          "2025-03-13T08:00:00",
          "2025-03-13T09:00:00",
          "2025-03-13T10:00:00",
          "2025-03-13T11:00:00",
          "2025-03-13T12:00:00",
          "2025-03-13T13:00:00",
          "2025-03-13T14:00:00",
          "2025-03-13T15:00:00",
          "2025-03-13T16:00:00",
          "2025-03-13T17:00:00",
          "2025-03-13T18:00:00",
          "2025-03-13T19:00:00",
          "2025-03-13T20:00:00",
          "2025-03-13T21:00:00",
          "2025-03-13T22:00:00",
          "2025-03-13T23:00:00",
          "2025-03-14T00:00:00",
          "2025-03-14T01:00:00",
          "2025-03-14T02:00:00",
          "2025-03-14T03:00:00",
          "2025-03-14T04:00:00",
          "2025-03-14T05:00:00",
          "2025-03-14T06:00:00",
          "2025-03-14T07:00:00",
          "2025-03-14T08:00:00",
          "2025-03-14T09:00:00",
          "2025-03-14T10:00:00",
          "2025-03-14T11:00:00",
          "2025-03-14T12:00:00",
          "2025-03-14T13:00:00",
          "2025-03-14T14:00:00",
          "2025-03-14T15:00:00",
          "2025-03-14T16:00:00",
          "2025-03-14T17:00:00",
          "2025-03-14T18:00:00",
          "2025-03-14T19:00:00",
          "2025-03-14T20:00:00",
          "2025-03-14T21:00:00",
          "2025-03-14T22:00:00",
          "2025-03-14T23:00:00",
          "2025-03-15T00:00:00",
          "2025-03-15T01:00:00",
          "2025-03-15T02:00:00",
          "2025-03-15T03:00:00",
          "2025-03-15T04:00:00",
          "2025-03-15T05:00:00",
          "2025-03-15T06:00:00",
          "2025-03-15T07:00:00",
          "2025-03-15T08:00:00",
          "2025-03-15T09:00:00",
          "2025-03-15T10:00:00",
          "2025-03-15T11:00:00",
          "2025-03-15T12:00:00",
          "2025-03-15T13:00:00",
          "2025-03-15T14:00:00",
          "2025-03-15T15:00:00",
          "2025-03-15T16:00:00",
          "2025-03-15T17:00:00",
          "2025-03-15T18:00:00",
          "2025-03-15T19:00:00",
          "2025-03-15T20:00:00",
          "2025-03-15T21:00:00",
          "2025-03-15T22:00:00",
          "2025-03-15T23:00:00",
          "2025-03-16T00:00:00",
          "2025-03-16T01:00:00",
          "2025-03-16T02:00:00",
          "2025-03-16T03:00:00",
          "2025-03-16T04:00:00",
          "2025-03-16T05:00:00",
          "2025-03-16T06:00:00",
          "2025-03-16T07:00:00",
          "2025-03-16T08:00:00",
          "2025-03-16T09:00:00",
          "2025-03-16T10:00:00",
          "2025-03-16T11:00:00",
          "2025-03-16T12:00:00",
          "2025-03-16T13:00:00",
          "2025-03-16T14:00:00",
          "2025-03-16T15:00:00",
          "2025-03-16T16:00:00",
          "2025-03-16T17:00:00",
          "2025-03-16T18:00:00",
          "2025-03-16T19:00:00",
          "2025-03-16T20:00:00",
          "2025-03-16T21:00:00",
          "2025-03-16T22:00:00",
          "2025-03-16T23:00:00"
         ],
         "xaxis": "x",
         "y": {
          "bdata": "AAAAAAAAAAAAAQEBAAAAAAAAAAAAAAAAAAAAAAAAAAABAQEBAQEBAQEBAQEBAQEBAQEBAQEBAQEAAAAAAAAAAAAAAAAAAAAAAAAAAAAAAAAAAAAAAAAAAAAAAAACAgICAgIBAQEBAQEBAQEBAQEEBAQEBAQJCQkJCQkFBQUFBQUCAgICAgIDAwMDAwMFBQUFBQUHBwcHBwcLCwsLCwsNDQ0NDQ0WFhYWFhYlJSUlJSU2NjY2NjZCQkJCQkIxMTEx",
          "dtype": "i1"
         },
         "yaxis": "y2"
        }
       ],
       "layout": {
        "legend": {
         "x": 1.05,
         "y": 1
        },
        "template": {
         "data": {
          "bar": [
           {
            "error_x": {
             "color": "#f2f5fa"
            },
            "error_y": {
             "color": "#f2f5fa"
            },
            "marker": {
             "line": {
              "color": "rgb(17,17,17)",
              "width": 0.5
             },
             "pattern": {
              "fillmode": "overlay",
              "size": 10,
              "solidity": 0.2
             }
            },
            "type": "bar"
           }
          ],
          "barpolar": [
           {
            "marker": {
             "line": {
              "color": "rgb(17,17,17)",
              "width": 0.5
             },
             "pattern": {
              "fillmode": "overlay",
              "size": 10,
              "solidity": 0.2
             }
            },
            "type": "barpolar"
           }
          ],
          "carpet": [
           {
            "aaxis": {
             "endlinecolor": "#A2B1C6",
             "gridcolor": "#506784",
             "linecolor": "#506784",
             "minorgridcolor": "#506784",
             "startlinecolor": "#A2B1C6"
            },
            "baxis": {
             "endlinecolor": "#A2B1C6",
             "gridcolor": "#506784",
             "linecolor": "#506784",
             "minorgridcolor": "#506784",
             "startlinecolor": "#A2B1C6"
            },
            "type": "carpet"
           }
          ],
          "choropleth": [
           {
            "colorbar": {
             "outlinewidth": 0,
             "ticks": ""
            },
            "type": "choropleth"
           }
          ],
          "contour": [
           {
            "colorbar": {
             "outlinewidth": 0,
             "ticks": ""
            },
            "colorscale": [
             [
              0,
              "#0d0887"
             ],
             [
              0.1111111111111111,
              "#46039f"
             ],
             [
              0.2222222222222222,
              "#7201a8"
             ],
             [
              0.3333333333333333,
              "#9c179e"
             ],
             [
              0.4444444444444444,
              "#bd3786"
             ],
             [
              0.5555555555555556,
              "#d8576b"
             ],
             [
              0.6666666666666666,
              "#ed7953"
             ],
             [
              0.7777777777777778,
              "#fb9f3a"
             ],
             [
              0.8888888888888888,
              "#fdca26"
             ],
             [
              1,
              "#f0f921"
             ]
            ],
            "type": "contour"
           }
          ],
          "contourcarpet": [
           {
            "colorbar": {
             "outlinewidth": 0,
             "ticks": ""
            },
            "type": "contourcarpet"
           }
          ],
          "heatmap": [
           {
            "colorbar": {
             "outlinewidth": 0,
             "ticks": ""
            },
            "colorscale": [
             [
              0,
              "#0d0887"
             ],
             [
              0.1111111111111111,
              "#46039f"
             ],
             [
              0.2222222222222222,
              "#7201a8"
             ],
             [
              0.3333333333333333,
              "#9c179e"
             ],
             [
              0.4444444444444444,
              "#bd3786"
             ],
             [
              0.5555555555555556,
              "#d8576b"
             ],
             [
              0.6666666666666666,
              "#ed7953"
             ],
             [
              0.7777777777777778,
              "#fb9f3a"
             ],
             [
              0.8888888888888888,
              "#fdca26"
             ],
             [
              1,
              "#f0f921"
             ]
            ],
            "type": "heatmap"
           }
          ],
          "histogram": [
           {
            "marker": {
             "pattern": {
              "fillmode": "overlay",
              "size": 10,
              "solidity": 0.2
             }
            },
            "type": "histogram"
           }
          ],
          "histogram2d": [
           {
            "colorbar": {
             "outlinewidth": 0,
             "ticks": ""
            },
            "colorscale": [
             [
              0,
              "#0d0887"
             ],
             [
              0.1111111111111111,
              "#46039f"
             ],
             [
              0.2222222222222222,
              "#7201a8"
             ],
             [
              0.3333333333333333,
              "#9c179e"
             ],
             [
              0.4444444444444444,
              "#bd3786"
             ],
             [
              0.5555555555555556,
              "#d8576b"
             ],
             [
              0.6666666666666666,
              "#ed7953"
             ],
             [
              0.7777777777777778,
              "#fb9f3a"
             ],
             [
              0.8888888888888888,
              "#fdca26"
             ],
             [
              1,
              "#f0f921"
             ]
            ],
            "type": "histogram2d"
           }
          ],
          "histogram2dcontour": [
           {
            "colorbar": {
             "outlinewidth": 0,
             "ticks": ""
            },
            "colorscale": [
             [
              0,
              "#0d0887"
             ],
             [
              0.1111111111111111,
              "#46039f"
             ],
             [
              0.2222222222222222,
              "#7201a8"
             ],
             [
              0.3333333333333333,
              "#9c179e"
             ],
             [
              0.4444444444444444,
              "#bd3786"
             ],
             [
              0.5555555555555556,
              "#d8576b"
             ],
             [
              0.6666666666666666,
              "#ed7953"
             ],
             [
              0.7777777777777778,
              "#fb9f3a"
             ],
             [
              0.8888888888888888,
              "#fdca26"
             ],
             [
              1,
              "#f0f921"
             ]
            ],
            "type": "histogram2dcontour"
           }
          ],
          "mesh3d": [
           {
            "colorbar": {
             "outlinewidth": 0,
             "ticks": ""
            },
            "type": "mesh3d"
           }
          ],
          "parcoords": [
           {
            "line": {
             "colorbar": {
              "outlinewidth": 0,
              "ticks": ""
             }
            },
            "type": "parcoords"
           }
          ],
          "pie": [
           {
            "automargin": true,
            "type": "pie"
           }
          ],
          "scatter": [
           {
            "marker": {
             "line": {
              "color": "#283442"
             }
            },
            "type": "scatter"
           }
          ],
          "scatter3d": [
           {
            "line": {
             "colorbar": {
              "outlinewidth": 0,
              "ticks": ""
             }
            },
            "marker": {
             "colorbar": {
              "outlinewidth": 0,
              "ticks": ""
             }
            },
            "type": "scatter3d"
           }
          ],
          "scattercarpet": [
           {
            "marker": {
             "colorbar": {
              "outlinewidth": 0,
              "ticks": ""
             }
            },
            "type": "scattercarpet"
           }
          ],
          "scattergeo": [
           {
            "marker": {
             "colorbar": {
              "outlinewidth": 0,
              "ticks": ""
             }
            },
            "type": "scattergeo"
           }
          ],
          "scattergl": [
           {
            "marker": {
             "line": {
              "color": "#283442"
             }
            },
            "type": "scattergl"
           }
          ],
          "scattermap": [
           {
            "marker": {
             "colorbar": {
              "outlinewidth": 0,
              "ticks": ""
             }
            },
            "type": "scattermap"
           }
          ],
          "scattermapbox": [
           {
            "marker": {
             "colorbar": {
              "outlinewidth": 0,
              "ticks": ""
             }
            },
            "type": "scattermapbox"
           }
          ],
          "scatterpolar": [
           {
            "marker": {
             "colorbar": {
              "outlinewidth": 0,
              "ticks": ""
             }
            },
            "type": "scatterpolar"
           }
          ],
          "scatterpolargl": [
           {
            "marker": {
             "colorbar": {
              "outlinewidth": 0,
              "ticks": ""
             }
            },
            "type": "scatterpolargl"
           }
          ],
          "scatterternary": [
           {
            "marker": {
             "colorbar": {
              "outlinewidth": 0,
              "ticks": ""
             }
            },
            "type": "scatterternary"
           }
          ],
          "surface": [
           {
            "colorbar": {
             "outlinewidth": 0,
             "ticks": ""
            },
            "colorscale": [
             [
              0,
              "#0d0887"
             ],
             [
              0.1111111111111111,
              "#46039f"
             ],
             [
              0.2222222222222222,
              "#7201a8"
             ],
             [
              0.3333333333333333,
              "#9c179e"
             ],
             [
              0.4444444444444444,
              "#bd3786"
             ],
             [
              0.5555555555555556,
              "#d8576b"
             ],
             [
              0.6666666666666666,
              "#ed7953"
             ],
             [
              0.7777777777777778,
              "#fb9f3a"
             ],
             [
              0.8888888888888888,
              "#fdca26"
             ],
             [
              1,
              "#f0f921"
             ]
            ],
            "type": "surface"
           }
          ],
          "table": [
           {
            "cells": {
             "fill": {
              "color": "#506784"
             },
             "line": {
              "color": "rgb(17,17,17)"
             }
            },
            "header": {
             "fill": {
              "color": "#2a3f5f"
             },
             "line": {
              "color": "rgb(17,17,17)"
             }
            },
            "type": "table"
           }
          ]
         },
         "layout": {
          "annotationdefaults": {
           "arrowcolor": "#f2f5fa",
           "arrowhead": 0,
           "arrowwidth": 1
          },
          "autotypenumbers": "strict",
          "coloraxis": {
           "colorbar": {
            "outlinewidth": 0,
            "ticks": ""
           }
          },
          "colorscale": {
           "diverging": [
            [
             0,
             "#8e0152"
            ],
            [
             0.1,
             "#c51b7d"
            ],
            [
             0.2,
             "#de77ae"
            ],
            [
             0.3,
             "#f1b6da"
            ],
            [
             0.4,
             "#fde0ef"
            ],
            [
             0.5,
             "#f7f7f7"
            ],
            [
             0.6,
             "#e6f5d0"
            ],
            [
             0.7,
             "#b8e186"
            ],
            [
             0.8,
             "#7fbc41"
            ],
            [
             0.9,
             "#4d9221"
            ],
            [
             1,
             "#276419"
            ]
           ],
           "sequential": [
            [
             0,
             "#0d0887"
            ],
            [
             0.1111111111111111,
             "#46039f"
            ],
            [
             0.2222222222222222,
             "#7201a8"
            ],
            [
             0.3333333333333333,
             "#9c179e"
            ],
            [
             0.4444444444444444,
             "#bd3786"
            ],
            [
             0.5555555555555556,
             "#d8576b"
            ],
            [
             0.6666666666666666,
             "#ed7953"
            ],
            [
             0.7777777777777778,
             "#fb9f3a"
            ],
            [
             0.8888888888888888,
             "#fdca26"
            ],
            [
             1,
             "#f0f921"
            ]
           ],
           "sequentialminus": [
            [
             0,
             "#0d0887"
            ],
            [
             0.1111111111111111,
             "#46039f"
            ],
            [
             0.2222222222222222,
             "#7201a8"
            ],
            [
             0.3333333333333333,
             "#9c179e"
            ],
            [
             0.4444444444444444,
             "#bd3786"
            ],
            [
             0.5555555555555556,
             "#d8576b"
            ],
            [
             0.6666666666666666,
             "#ed7953"
            ],
            [
             0.7777777777777778,
             "#fb9f3a"
            ],
            [
             0.8888888888888888,
             "#fdca26"
            ],
            [
             1,
             "#f0f921"
            ]
           ]
          },
          "colorway": [
           "#636efa",
           "#EF553B",
           "#00cc96",
           "#ab63fa",
           "#FFA15A",
           "#19d3f3",
           "#FF6692",
           "#B6E880",
           "#FF97FF",
           "#FECB52"
          ],
          "font": {
           "color": "#f2f5fa"
          },
          "geo": {
           "bgcolor": "rgb(17,17,17)",
           "lakecolor": "rgb(17,17,17)",
           "landcolor": "rgb(17,17,17)",
           "showlakes": true,
           "showland": true,
           "subunitcolor": "#506784"
          },
          "hoverlabel": {
           "align": "left"
          },
          "hovermode": "closest",
          "mapbox": {
           "style": "dark"
          },
          "paper_bgcolor": "rgb(17,17,17)",
          "plot_bgcolor": "rgb(17,17,17)",
          "polar": {
           "angularaxis": {
            "gridcolor": "#506784",
            "linecolor": "#506784",
            "ticks": ""
           },
           "bgcolor": "rgb(17,17,17)",
           "radialaxis": {
            "gridcolor": "#506784",
            "linecolor": "#506784",
            "ticks": ""
           }
          },
          "scene": {
           "xaxis": {
            "backgroundcolor": "rgb(17,17,17)",
            "gridcolor": "#506784",
            "gridwidth": 2,
            "linecolor": "#506784",
            "showbackground": true,
            "ticks": "",
            "zerolinecolor": "#C8D4E3"
           },
           "yaxis": {
            "backgroundcolor": "rgb(17,17,17)",
            "gridcolor": "#506784",
            "gridwidth": 2,
            "linecolor": "#506784",
            "showbackground": true,
            "ticks": "",
            "zerolinecolor": "#C8D4E3"
           },
           "zaxis": {
            "backgroundcolor": "rgb(17,17,17)",
            "gridcolor": "#506784",
            "gridwidth": 2,
            "linecolor": "#506784",
            "showbackground": true,
            "ticks": "",
            "zerolinecolor": "#C8D4E3"
           }
          },
          "shapedefaults": {
           "line": {
            "color": "#f2f5fa"
           }
          },
          "sliderdefaults": {
           "bgcolor": "#C8D4E3",
           "bordercolor": "rgb(17,17,17)",
           "borderwidth": 1,
           "tickwidth": 0
          },
          "ternary": {
           "aaxis": {
            "gridcolor": "#506784",
            "linecolor": "#506784",
            "ticks": ""
           },
           "baxis": {
            "gridcolor": "#506784",
            "linecolor": "#506784",
            "ticks": ""
           },
           "bgcolor": "rgb(17,17,17)",
           "caxis": {
            "gridcolor": "#506784",
            "linecolor": "#506784",
            "ticks": ""
           }
          },
          "title": {
           "x": 0.05
          },
          "updatemenudefaults": {
           "bgcolor": "#506784",
           "borderwidth": 0
          },
          "xaxis": {
           "automargin": true,
           "gridcolor": "#283442",
           "linecolor": "#506784",
           "ticks": "",
           "title": {
            "standoff": 15
           },
           "zerolinecolor": "#283442",
           "zerolinewidth": 2
          },
          "yaxis": {
           "automargin": true,
           "gridcolor": "#283442",
           "linecolor": "#506784",
           "ticks": "",
           "title": {
            "standoff": 15
           },
           "zerolinecolor": "#283442",
           "zerolinewidth": 2
          }
         }
        },
        "title": {
         "text": "38.8951°N -77.0364°E - Prediccion del Clima"
        },
        "xaxis": {
         "anchor": "y",
         "domain": [
          0,
          0.94
         ],
         "title": {
          "text": "Fecha"
         }
        },
        "yaxis": {
         "anchor": "x",
         "domain": [
          0,
          1
         ],
         "range": [
          -5,
          30
         ],
         "title": {
          "text": "Temperature (°C) / Wind Speed (km/h)"
         }
        },
        "yaxis2": {
         "anchor": "x",
         "overlaying": "y",
         "side": "right",
         "title": {
          "text": "Precipitation Probability (%)"
         }
        }
       }
      }
     },
     "metadata": {},
     "output_type": "display_data"
    }
   ],
   "source": [
    "import plotly.graph_objects as go\n",
    "from plotly.subplots import make_subplots\n",
    "\n",
    "# Crear gráfico con múltiples ejes Y\n",
    "fig = make_subplots(specs=[[{\"secondary_y\": True}]])\n",
    "\n",
    "# Línea 1: Temperatura (eje Y1, izquierda)\n",
    "fig.add_trace(\n",
    "    go.Scatter(x=df_weather['time'], y=df_weather['temperature_2m'], name=\"Temperature 2m\", line=dict(color='cyan', width=1.5)),\n",
    "    secondary_y=False\n",
    ")\n",
    "\n",
    "# Línea 2: Velocidad del viento (eje Y2)\n",
    "fig.add_trace(\n",
    "    go.Scatter(x=df_weather['time'], y=df_weather['windspeed_10m'], name=\"Wind Speed 10m\", line=dict(color='limegreen', width=1.5)),\n",
    "    secondary_y=False\n",
    ")\n",
    "\n",
    "# Línea 3: Probabilidad de Precipitacion (eje Y3, derecha)\n",
    "fig.add_trace(\n",
    "    go.Scatter(x=df_weather['time'], y=df_weather['precipitation_probability'], name=\"Precipitation Probability\", line=dict(color='purple', width=1.5)),\n",
    "    secondary_y=True\n",
    ")\n",
    "\n",
    "# Actualizar el diseño del gráfico\n",
    "fig.update_layout(\n",
    "    title=f\"{latitude}°N {longitude}°E - Prediccion del Clima\",\n",
    "    xaxis_title=\"Fecha\",\n",
    "    template=\"plotly_dark\",  # Tema oscuro como en la imagen\n",
    "    legend=dict(x=1.05, y=1)\n",
    ")\n",
    "\n",
    "# Ajustar rangos de ejes Y para que coincidan visualmente con el ejemplo\n",
    "fig.update_yaxes(title_text=\"Temperature (°C) / Wind Speed (km/h)\", secondary_y=False, range=[-5, 30])\n",
    "fig.update_yaxes(title_text=\"Precipitation Probability (%)\", secondary_y=True)\n",
    "fig.show()"
   ]
  }
 ],
 "metadata": {
  "kernelspec": {
   "display_name": "Python 3",
   "language": "python",
   "name": "python3"
  },
  "language_info": {
   "codemirror_mode": {
    "name": "ipython",
    "version": 3
   },
   "file_extension": ".py",
   "mimetype": "text/x-python",
   "name": "python",
   "nbconvert_exporter": "python",
   "pygments_lexer": "ipython3",
   "version": "3.10.12"
  }
 },
 "nbformat": 4,
 "nbformat_minor": 2
}
