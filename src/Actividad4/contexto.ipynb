{
 "cells": [
  {
   "cell_type": "markdown",
   "metadata": {},
   "source": [
    "### Contexto y objetivo del proyecto\n",
    "\n",
    "**Definición de objetivo**\n",
    "El objetivo de este proyecto es estudiar los patrones de demanda del servicio de alquiler de bicicletas en la ciudad de Washington a lo largo del año. Se busca obtener insights que permitan al negocio aumentar su alcance y mejorar la calidad del servicio.\n",
    "\n",
    "**Contexto comercial**\n",
    "La empresa presta un servicio de alquiler de bicicletas en la ciudad de Washington. El análisis de los patrones de demanda permitirá a la empresa tomar decisiones informadas para optimizar la disponibilidad de bicicletas y mejorar la experiencia del cliente.\n",
    "\n",
    "**Problema Comercial**\n",
    "El problema comercial radica en entender cómo varía la demanda de bicicletas a lo largo del año y qué factores influyen en estos cambios. Con esta información, la empresa podrá ajustar su oferta para satisfacer mejor la demanda y mejorar la calidad del servicio.\n",
    "\n",
    "**Contexto analítico**\n",
    "Para abordar el problema comercial, se cuenta con una base de datos recolectada a lo largo de dos años. Esta base de datos será analizada para identificar patrones y tendencias en la demanda de bicicletas. Se utilizarán técnicas de análisis de datos y visualización para explorar y entender el comportamiento del mercado.\n",
    "\n",
    "**Motivación**\n",
    "La motivación detrás de este proyecto radica en la necesidad de optimizar el servicio de alquiler de bicicletas en Washington. Al entender mejor los patrones de demanda, la empresa puede mejorar la disponibilidad de bicicletas, reducir tiempos de espera y aumentar la satisfacción del cliente. Además, un análisis detallado puede revelar oportunidades para expandir el negocio y atraer a más usuarios.\n",
    "\n",
    "**Audiencia interesada**\n",
    "La audiencia interesada en este proyecto incluye a los directivos y gerentes de la empresa de alquiler de bicicletas, quienes tomarán decisiones estratégicas basadas en los insights obtenidos. También incluye a los analistas de datos y científicos de datos que estarán involucrados en el análisis y visualización de los datos. Finalmente, los resultados del proyecto pueden ser de interés para los clientes actuales y potenciales, ya que un mejor servicio impactará directamente en su experiencia.\n"
   ]
  }
 ],
 "metadata": {
  "language_info": {
   "name": "python"
  }
 },
 "nbformat": 4,
 "nbformat_minor": 2
}
